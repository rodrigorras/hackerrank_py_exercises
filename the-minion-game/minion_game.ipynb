{
 "cells": [
  {
   "cell_type": "markdown",
   "id": "7d5aca1a-bf7a-431f-9383-9a5018544a6a",
   "metadata": {
    "editable": true,
    "slideshow": {
     "slide_type": ""
    },
    "tags": []
   },
   "source": [
    "<h3>Exercises for the minion Game</h3> \n",
    "\n",
    "- link: https://www.hackerrank.com/challenges/the-minion-game\n",
    "- author: rodrigo.rras@gmail.com\n",
    "- repository:"
   ]
  },
  {
   "cell_type": "code",
   "execution_count": 5,
   "id": "a7ca3d41-b0bc-4658-b2f3-1c3cacdb696f",
   "metadata": {
    "scrolled": true
   },
   "outputs": [
    {
     "name": "stdin",
     "output_type": "stream",
     "text": [
      " BANANA\n"
     ]
    },
    {
     "name": "stdout",
     "output_type": "stream",
     "text": [
      "Stuart 12\n"
     ]
    }
   ],
   "source": [
    "def minion_game(ar):\n",
    "    # your code goes here\n",
    "    Stuart = 0 n\n",
    "    Kevin = 0\n",
    "    L = len(ar)\n",
    "    for i in range(len(ar)):\n",
    "        #print()\n",
    "        if ar[i] not in 'AEIOU':\n",
    "            Stuart = Stuart + L - i\n",
    "        else:\n",
    "           \n",
    "            Kevin  = Kevin + L - i\n",
    "        \n",
    "    if Stuart > Kevin:\n",
    "        print(\"Stuart\",Stuart )\n",
    "    elif Kevin > Stuart:\n",
    "        print(\"Kevin\", Kevin)\n",
    "    else:\n",
    "        print(\"Draw\")\n",
    "                \n",
    "            \n",
    "if __name__ == '__main__':\n",
    "    s = input()\n",
    "    minion_game(s)"
   ]
  },
  {
   "cell_type": "code",
   "execution_count": 11,
   "id": "edf7aa7f-69ba-419a-a3cd-b79b57e24f95",
   "metadata": {},
   "outputs": [],
   "source": [
    "def minion_game_slow(ar):\n",
    "    Stuart = 0 \n",
    "    Kevin = 0\n",
    "    for i in range(len(ar)):\n",
    "        print()\n",
    "        if ar[i] not in 'AEIOU':\n",
    "          for j in range(i,len(ar)):\n",
    "             Stuart = Stuart + 1\n",
    "             print( (ar[i] ,ar[j:]),\"\",  end='')\n",
    "        else:\n",
    "          for j in range(i,len(ar)):\n",
    "            Kevin = Kevin + 1\n",
    "            print( (ar[i] ,ar[j:]),\"\",  end='')\n",
    "        "
   ]
  },
  {
   "cell_type": "code",
   "execution_count": 13,
   "id": "61b0c45e-5448-4caa-96ee-9862f2154b42",
   "metadata": {},
   "outputs": [
    {
     "name": "stdout",
     "output_type": "stream",
     "text": [
      "9\n"
     ]
    }
   ],
   "source": [
    "print(Kevin)"
   ]
  },
  {
   "cell_type": "code",
   "execution_count": 15,
   "id": "bd379dc2-b1db-4124-9674-28cd69d2ea44",
   "metadata": {},
   "outputs": [
    {
     "name": "stdout",
     "output_type": "stream",
     "text": [
      "12\n"
     ]
    }
   ],
   "source": [
    "print(Stuart)"
   ]
  },
  {
   "cell_type": "markdown",
   "id": "f10012e1-d1fa-4587-a01b-a95ef484047e",
   "metadata": {},
   "source": [
    "!ls"
   ]
  },
  {
   "cell_type": "code",
   "execution_count": 16,
   "id": "0003769c-e4a8-465f-ae15-cf60ab909fa2",
   "metadata": {},
   "outputs": [
    {
     "name": "stdout",
     "output_type": "stream",
     "text": [
      "main.py            minion_game.ipynb  socker-pairs.ipynb\n"
     ]
    }
   ],
   "source": [
    "! ls"
   ]
  },
  {
   "cell_type": "code",
   "execution_count": null,
   "id": "7812c63a-0cf5-4064-bbc3-abca198798d7",
   "metadata": {},
   "outputs": [],
   "source": []
  }
 ],
 "metadata": {
  "kernelspec": {
   "display_name": "Python 3 (ipykernel)",
   "language": "python",
   "name": "python3"
  },
  "language_info": {
   "codemirror_mode": {
    "name": "ipython",
    "version": 3
   },
   "file_extension": ".py",
   "mimetype": "text/x-python",
   "name": "python",
   "nbconvert_exporter": "python",
   "pygments_lexer": "ipython3",
   "version": "3.12.3"
  }
 },
 "nbformat": 4,
 "nbformat_minor": 5
}
